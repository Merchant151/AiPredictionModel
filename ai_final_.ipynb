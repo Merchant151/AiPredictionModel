{
 "cells": [
  {
   "cell_type": "code",
   "execution_count": 4,
   "id": "c6534010",
   "metadata": {},
   "outputs": [],
   "source": [
    "import tensorflow as tf\n",
    "from sklearn.ensemble import RandomForestClassifier\n",
    "from sklearn.datasets import make_classification\n",
    "from sklearn.linear_model import LogisticRegression\n",
    "from sklearn.linear_model import LinearRegression\n",
    "import matplotlib.pyplot as plt\n",
    "import sklearn.metrics as metrics"
   ]
  },
  {
   "cell_type": "code",
   "execution_count": 5,
   "id": "91c3d7b4",
   "metadata": {},
   "outputs": [],
   "source": [
    "#Neural Net\n",
    "model = tf.keras.models.Sequential([\n",
    "  tf.keras.layers.Flatten(),\n",
    "  tf.keras.layers.Dense(128, activation='relu', name = 'hidden'),\n",
    "  tf.keras.layers.Dropout(0.2),\n",
    "  tf.keras.layers.Dense(10, activation = 'softmax', name='output')\n",
    "])"
   ]
  },
  {
   "cell_type": "code",
   "execution_count": 6,
   "id": "9c84c410",
   "metadata": {},
   "outputs": [],
   "source": [
    "model.compile(optimizer='adam',\n",
    "             loss = 'categorical_crossentropy',\n",
    "             matrices = ['accuracy'])"
   ]
  },
  {
   "cell_type": "code",
   "execution_count": 7,
   "id": "da617d34",
   "metadata": {},
   "outputs": [
    {
     "ename": "NameError",
     "evalue": "name 'preprocessing' is not defined",
     "output_type": "error",
     "traceback": [
      "\u001b[0;31m---------------------------------------------------------------------------\u001b[0m",
      "\u001b[0;31mNameError\u001b[0m                                 Traceback (most recent call last)",
      "\u001b[0;32m/var/folders/yr/x1s5_xhj0vlc3lk__511h0dc0000gn/T/ipykernel_40520/1937941405.py\u001b[0m in \u001b[0;36m<module>\u001b[0;34m\u001b[0m\n\u001b[1;32m      1\u001b[0m \u001b[0;31m#label encoding for categorical fields\u001b[0m\u001b[0;34m\u001b[0m\u001b[0;34m\u001b[0m\u001b[0;34m\u001b[0m\u001b[0m\n\u001b[1;32m      2\u001b[0m \u001b[0;34m\u001b[0m\u001b[0m\n\u001b[0;32m----> 3\u001b[0;31m \u001b[0mlabel_encoder\u001b[0m \u001b[0;34m=\u001b[0m \u001b[0mpreprocessing\u001b[0m\u001b[0;34m.\u001b[0m\u001b[0mLabelEncoder\u001b[0m\u001b[0;34m(\u001b[0m\u001b[0;34m)\u001b[0m\u001b[0;34m\u001b[0m\u001b[0;34m\u001b[0m\u001b[0m\n\u001b[0m\u001b[1;32m      4\u001b[0m \u001b[0mdf\u001b[0m\u001b[0;34m.\u001b[0m\u001b[0mresult\u001b[0m \u001b[0;34m=\u001b[0m \u001b[0mlabel_encoder\u001b[0m\u001b[0;34m.\u001b[0m\u001b[0mfit_transform\u001b[0m\u001b[0;34m(\u001b[0m\u001b[0mdf\u001b[0m\u001b[0;34m[\u001b[0m\u001b[0;34m'result'\u001b[0m\u001b[0;34m]\u001b[0m\u001b[0;34m)\u001b[0m\u001b[0;34m\u001b[0m\u001b[0;34m\u001b[0m\u001b[0m\n\u001b[1;32m      5\u001b[0m \u001b[0mdf\u001b[0m\u001b[0;34m.\u001b[0m\u001b[0mblue_team_name\u001b[0m \u001b[0;34m=\u001b[0m \u001b[0mlabel_encoder\u001b[0m\u001b[0;34m.\u001b[0m\u001b[0mfit_transform\u001b[0m\u001b[0;34m(\u001b[0m\u001b[0mdf\u001b[0m\u001b[0;34m[\u001b[0m\u001b[0;34m'blue_team_name'\u001b[0m\u001b[0;34m]\u001b[0m\u001b[0;34m)\u001b[0m\u001b[0;34m\u001b[0m\u001b[0;34m\u001b[0m\u001b[0m\n",
      "\u001b[0;31mNameError\u001b[0m: name 'preprocessing' is not defined"
     ]
    }
   ],
   "source": [
    "#label encoding for categorical fields\n",
    "\n",
    "label_encoder = preprocessing.LabelEncoder()\n",
    "df.result = label_encoder.fit_transform(df['result'])\n",
    "df.blue_team_name = label_encoder.fit_transform(df['blue_team_name'])\n",
    "df.red_team_name = label_encoder.fit_transform(df['red_team_name'])\n",
    "df.blue_top_name = label_encoder.fit_transform(df['blue_top_name'])\n",
    "df.blue_jg_name = label_encoder.fit_transform(df['blue_jg_name'])\n",
    "df.blue_mid_name = label_encoder.fit_transform(df['blue_mid_name'])\n",
    "df.blue_bot_name = label_encoder.fit_transform(df['blue_bot_name'])\n",
    "df.blue_sup_name = label_encoder.fit_transform(df['blue_sup_name'])\n",
    "df.red_top_name = label_encoder.fit_transform(df['red_top_name'])\n",
    "df.red_jg_name = label_encoder.fit_transform(df['red_jg_name'])\n",
    "df.red_mid_name = label_encoder.fit_transform(df['red_mid_name'])\n",
    "df.red_bot_name = label_encoder.fit_transform(df['red_bot_name'])\n",
    "df.red_sup_name = label_encoder.fit_transform(df['red_sup_name'])\n",
    "\n",
    "\n",
    "\n",
    "df.blue_top_champion = label_encoder.fit_transform(df['blue_top_champion'])\n",
    "df.blue_jg_champion = label_encoder.fit_transform(df['blue_jg_champion'])\n",
    "df.blue_mid_champion = label_encoder.fit_transform(df['blue_mid_champion'])\n",
    "df.blue_bot_champion = label_encoder.fit_transform(df['blue_bot_champion'])\n",
    "df.blue_sup_champion = label_encoder.fit_transform(df['blue_sup_champion'])\n",
    "df.red_top_champion = label_encoder.fit_transform(df['red_sup_champion'])\n",
    "df.red_jg_champion = label_encoder.fit_transform(df['red_sup_champion'])\n",
    "df.red_mid_champion = label_encoder.fit_transform(df['red_sup_champion'])\n",
    "df.red_bot_champion = label_encoder.fit_transform(df['red_sup_champion'])\n",
    "df.red_sup_champion = label_encoder.fit_transform(df['red_sup_champion'])\n",
    "\n",
    "\n",
    "\n",
    "\n",
    "y_train = df[\"result\"].to_numpy()\n",
    "y_train = np.array(y_train).astype('float32')\n",
    "X_train = df.drop(columns = [\"result\", \"timeline\", \"duration\",\"date\"])\n",
    "X_train = np.array(X_train).astype('float32')\n",
    "\n",
    "X_train, X_test, y_train, y_test = train_test_split(X_train, y_train, test_size=0.2, random_state=42)"
   ]
  },
  {
   "cell_type": "code",
   "execution_count": null,
   "id": "d155cb7b",
   "metadata": {},
   "outputs": [],
   "source": [
    "model.summary()"
   ]
  },
  {
   "cell_type": "code",
   "execution_count": null,
   "id": "ee729bac",
   "metadata": {},
   "outputs": [],
   "source": [
    "y_test_pred = model.fit(X_train, y_train, epochs = 10)"
   ]
  },
  {
   "cell_type": "code",
   "execution_count": null,
   "id": "bc7f0f84",
   "metadata": {},
   "outputs": [],
   "source": [
    "performance = []\n",
    "for i in range(10):\n",
    "    for j in range(11):\n",
    "        acc = np.mean(y_test_pred[j][i] == y_test)\n",
    "        performance.append(acc)\n",
    "x = np.linspace(1,1,180).reshape(180,1)\n",
    "\n",
    "perf_df = pd.DataFrame(performance)\n",
    "perf_df.describe()"
   ]
  },
  {
   "cell_type": "code",
   "execution_count": null,
   "id": "5cccd15a",
   "metadata": {},
   "outputs": [],
   "source": [
    "\n",
    "probs = model.predict_proba(X_test)\n",
    "preds = probs[:,1]\n",
    "fpr, tpr, threshold = metrics.roc_curve(y_test, preds)\n",
    "roc_auc = metrics.auc(fpr, tpr)\n",
    "\n",
    "# method I: plt\n",
    "\n",
    "plt.title('Receiver Operating Characteristic')\n",
    "plt.plot(fpr, tpr, 'b', label = 'AUC = %0.2f' % roc_auc)\n",
    "plt.legend(loc = 'lower right')\n",
    "plt.plot([0, 1], [0, 1],'r--')\n",
    "plt.xlim([0, 1])\n",
    "plt.ylim([0, 1])\n",
    "plt.ylabel('True Positive Rate')\n",
    "plt.xlabel('False Positive Rate')\n",
    "plt.show()"
   ]
  },
  {
   "cell_type": "code",
   "execution_count": null,
   "id": "10d2eed8",
   "metadata": {},
   "outputs": [],
   "source": [
    "#Random Forest\n",
    "X, y = make_classification(n_samples=1000, n_features=4,\n",
    "                          n_informative=2, n_redundant=0,\n",
    "                          random_state=0, shuffle=False)\n",
    "clf = RandomForestClassifier(max_depth=2, random_state=0)\n",
    "clf.fit(X_train, y_train)"
   ]
  },
  {
   "cell_type": "code",
   "execution_count": null,
   "id": "9f5c66fd",
   "metadata": {},
   "outputs": [],
   "source": [
    "y_test_pred = clf.predict(X_test)\n",
    "acc = np.mean(y_test_pred == y_test)\n",
    "print('Training Accuracy: '  ,acc)"
   ]
  },
  {
   "cell_type": "code",
   "execution_count": null,
   "id": "07ee8489",
   "metadata": {},
   "outputs": [],
   "source": [
    "plot_confusion_matrix(clf,X_train,y_train)"
   ]
  },
  {
   "cell_type": "code",
   "execution_count": null,
   "id": "ef7fc2ab",
   "metadata": {},
   "outputs": [],
   "source": [
    "#Logistic Regression\n",
    "lr = LogisticRegression(random_state = 0)\n",
    "lr.fit(X_train,y_train)"
   ]
  },
  {
   "cell_type": "code",
   "execution_count": 2,
   "id": "dcbaae4a",
   "metadata": {},
   "outputs": [
    {
     "ename": "NameError",
     "evalue": "name 'plot_confusion_matrix' is not defined",
     "output_type": "error",
     "traceback": [
      "\u001b[0;31m---------------------------------------------------------------------------\u001b[0m",
      "\u001b[0;31mNameError\u001b[0m                                 Traceback (most recent call last)",
      "\u001b[0;32m/var/folders/yr/x1s5_xhj0vlc3lk__511h0dc0000gn/T/ipykernel_40520/2488164777.py\u001b[0m in \u001b[0;36m<module>\u001b[0;34m\u001b[0m\n\u001b[0;32m----> 1\u001b[0;31m \u001b[0mplot_confusion_matrix\u001b[0m\u001b[0;34m(\u001b[0m\u001b[0mlr\u001b[0m\u001b[0;34m,\u001b[0m\u001b[0mX_train\u001b[0m\u001b[0;34m,\u001b[0m\u001b[0my_train\u001b[0m\u001b[0;34m)\u001b[0m\u001b[0;34m\u001b[0m\u001b[0;34m\u001b[0m\u001b[0m\n\u001b[0m",
      "\u001b[0;31mNameError\u001b[0m: name 'plot_confusion_matrix' is not defined"
     ]
    }
   ],
   "source": [
    "plot_confusion_matrix(lr,X_train,y_train)"
   ]
  },
  {
   "cell_type": "code",
   "execution_count": null,
   "id": "f2fb810f",
   "metadata": {},
   "outputs": [],
   "source": [
    "#Linear Regression\n",
    "lfr = LinearRegression()\n",
    "lfr.fit(X_train,y_train)"
   ]
  },
  {
   "cell_type": "code",
   "execution_count": 3,
   "id": "060ac46c",
   "metadata": {},
   "outputs": [
    {
     "ename": "NameError",
     "evalue": "name 'lr' is not defined",
     "output_type": "error",
     "traceback": [
      "\u001b[0;31m---------------------------------------------------------------------------\u001b[0m",
      "\u001b[0;31mNameError\u001b[0m                                 Traceback (most recent call last)",
      "\u001b[0;32m/var/folders/yr/x1s5_xhj0vlc3lk__511h0dc0000gn/T/ipykernel_40520/1705513028.py\u001b[0m in \u001b[0;36m<module>\u001b[0;34m\u001b[0m\n\u001b[0;32m----> 1\u001b[0;31m \u001b[0my_test_pred\u001b[0m \u001b[0;34m=\u001b[0m \u001b[0mlr\u001b[0m\u001b[0;34m.\u001b[0m\u001b[0mpredict\u001b[0m\u001b[0;34m(\u001b[0m\u001b[0mX_test\u001b[0m\u001b[0;34m)\u001b[0m\u001b[0;34m\u001b[0m\u001b[0;34m\u001b[0m\u001b[0m\n\u001b[0m\u001b[1;32m      2\u001b[0m \u001b[0macc\u001b[0m \u001b[0;34m=\u001b[0m \u001b[0mnp\u001b[0m\u001b[0;34m.\u001b[0m\u001b[0mmean\u001b[0m\u001b[0;34m(\u001b[0m\u001b[0my_test_pred\u001b[0m \u001b[0;34m==\u001b[0m \u001b[0my_test\u001b[0m\u001b[0;34m)\u001b[0m\u001b[0;34m\u001b[0m\u001b[0;34m\u001b[0m\u001b[0m\n\u001b[1;32m      3\u001b[0m \u001b[0mprint\u001b[0m\u001b[0;34m(\u001b[0m\u001b[0;34m'Training Accuracy: '\u001b[0m  \u001b[0;34m,\u001b[0m\u001b[0macc\u001b[0m\u001b[0;34m)\u001b[0m\u001b[0;34m\u001b[0m\u001b[0;34m\u001b[0m\u001b[0m\n",
      "\u001b[0;31mNameError\u001b[0m: name 'lr' is not defined"
     ]
    }
   ],
   "source": [
    "y_test_pred = lfr.predict(X_test)\n",
    "acc = np.mean(y_test_pred == y_test)\n",
    "print('Training Accuracy: '  ,acc)"
   ]
  },
  {
   "cell_type": "code",
   "execution_count": null,
   "id": "7e93c3a4",
   "metadata": {},
   "outputs": [],
   "source": []
  }
 ],
 "metadata": {
  "kernelspec": {
   "display_name": "Python 3 (ipykernel)",
   "language": "python",
   "name": "python3"
  },
  "language_info": {
   "codemirror_mode": {
    "name": "ipython",
    "version": 3
   },
   "file_extension": ".py",
   "mimetype": "text/x-python",
   "name": "python",
   "nbconvert_exporter": "python",
   "pygments_lexer": "ipython3",
   "version": "3.7.11"
  }
 },
 "nbformat": 4,
 "nbformat_minor": 5
}
